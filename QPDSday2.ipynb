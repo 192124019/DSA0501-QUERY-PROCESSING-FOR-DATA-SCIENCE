{
  "nbformat": 4,
  "nbformat_minor": 0,
  "metadata": {
    "colab": {
      "provenance": [],
      "authorship_tag": "ABX9TyODftpaT9+H50mMNDPBU+Lj",
      "include_colab_link": true
    },
    "kernelspec": {
      "name": "python3",
      "display_name": "Python 3"
    },
    "language_info": {
      "name": "python"
    }
  },
  "cells": [
    {
      "cell_type": "markdown",
      "metadata": {
        "id": "view-in-github",
        "colab_type": "text"
      },
      "source": [
        "<a href=\"https://colab.research.google.com/github/192124019/DSA0501-QUERY-PROCESSING-FOR-DATA-SCIENCE/blob/main/QPDSday2.ipynb\" target=\"_parent\"><img src=\"https://colab.research.google.com/assets/colab-badge.svg\" alt=\"Open In Colab\"/></a>"
      ]
    },
    {
      "cell_type": "code",
      "execution_count": null,
      "metadata": {
        "colab": {
          "base_uri": "https://localhost:8080/",
          "height": 363
        },
        "id": "qpG6KA2c7m-b",
        "outputId": "895ec68b-43ac-494d-e594-f77c0cb962a6"
      },
      "outputs": [
        {
          "output_type": "execute_result",
          "data": {
            "text/plain": [
              "<pandas.io.formats.style.Styler at 0x782b9c250c70>"
            ],
            "text/html": [
              "<style type=\"text/css\">\n",
              "#T_a9451_row0_col0, #T_a9451_row0_col3, #T_a9451_row1_col1, #T_a9451_row2_col0, #T_a9451_row3_col0, #T_a9451_row3_col3, #T_a9451_row4_col0, #T_a9451_row4_col1, #T_a9451_row5_col2, #T_a9451_row5_col3, #T_a9451_row6_col0, #T_a9451_row6_col1, #T_a9451_row7_col3, #T_a9451_row8_col3, #T_a9451_row9_col0, #T_a9451_row9_col2 {\n",
              "  background-color: red;\n",
              "}\n",
              "</style>\n",
              "<table id=\"T_a9451\" class=\"dataframe\">\n",
              "  <thead>\n",
              "    <tr>\n",
              "      <th class=\"blank level0\" >&nbsp;</th>\n",
              "      <th id=\"T_a9451_level0_col0\" class=\"col_heading level0 col0\" >A</th>\n",
              "      <th id=\"T_a9451_level0_col1\" class=\"col_heading level0 col1\" >B</th>\n",
              "      <th id=\"T_a9451_level0_col2\" class=\"col_heading level0 col2\" >C</th>\n",
              "      <th id=\"T_a9451_level0_col3\" class=\"col_heading level0 col3\" >D</th>\n",
              "    </tr>\n",
              "  </thead>\n",
              "  <tbody>\n",
              "    <tr>\n",
              "      <th id=\"T_a9451_level0_row0\" class=\"row_heading level0 row0\" >0</th>\n",
              "      <td id=\"T_a9451_row0_col0\" class=\"data row0 col0\" >nan</td>\n",
              "      <td id=\"T_a9451_row0_col1\" class=\"data row0 col1\" >0.109139</td>\n",
              "      <td id=\"T_a9451_row0_col2\" class=\"data row0 col2\" >0.929502</td>\n",
              "      <td id=\"T_a9451_row0_col3\" class=\"data row0 col3\" >nan</td>\n",
              "    </tr>\n",
              "    <tr>\n",
              "      <th id=\"T_a9451_level0_row1\" class=\"row_heading level0 row1\" >1</th>\n",
              "      <td id=\"T_a9451_row1_col0\" class=\"data row1 col0\" >0.904271</td>\n",
              "      <td id=\"T_a9451_row1_col1\" class=\"data row1 col1\" >nan</td>\n",
              "      <td id=\"T_a9451_row1_col2\" class=\"data row1 col2\" >0.896683</td>\n",
              "      <td id=\"T_a9451_row1_col3\" class=\"data row1 col3\" >0.986374</td>\n",
              "    </tr>\n",
              "    <tr>\n",
              "      <th id=\"T_a9451_level0_row2\" class=\"row_heading level0 row2\" >2</th>\n",
              "      <td id=\"T_a9451_row2_col0\" class=\"data row2 col0\" >nan</td>\n",
              "      <td id=\"T_a9451_row2_col1\" class=\"data row2 col1\" >0.917590</td>\n",
              "      <td id=\"T_a9451_row2_col2\" class=\"data row2 col2\" >0.833670</td>\n",
              "      <td id=\"T_a9451_row2_col3\" class=\"data row2 col3\" >0.031627</td>\n",
              "    </tr>\n",
              "    <tr>\n",
              "      <th id=\"T_a9451_level0_row3\" class=\"row_heading level0 row3\" >3</th>\n",
              "      <td id=\"T_a9451_row3_col0\" class=\"data row3 col0\" >nan</td>\n",
              "      <td id=\"T_a9451_row3_col1\" class=\"data row3 col1\" >0.127309</td>\n",
              "      <td id=\"T_a9451_row3_col2\" class=\"data row3 col2\" >0.144332</td>\n",
              "      <td id=\"T_a9451_row3_col3\" class=\"data row3 col3\" >nan</td>\n",
              "    </tr>\n",
              "    <tr>\n",
              "      <th id=\"T_a9451_level0_row4\" class=\"row_heading level0 row4\" >4</th>\n",
              "      <td id=\"T_a9451_row4_col0\" class=\"data row4 col0\" >nan</td>\n",
              "      <td id=\"T_a9451_row4_col1\" class=\"data row4 col1\" >nan</td>\n",
              "      <td id=\"T_a9451_row4_col2\" class=\"data row4 col2\" >0.465524</td>\n",
              "      <td id=\"T_a9451_row4_col3\" class=\"data row4 col3\" >0.823800</td>\n",
              "    </tr>\n",
              "    <tr>\n",
              "      <th id=\"T_a9451_level0_row5\" class=\"row_heading level0 row5\" >5</th>\n",
              "      <td id=\"T_a9451_row5_col0\" class=\"data row5 col0\" >0.374063</td>\n",
              "      <td id=\"T_a9451_row5_col1\" class=\"data row5 col1\" >0.491179</td>\n",
              "      <td id=\"T_a9451_row5_col2\" class=\"data row5 col2\" >nan</td>\n",
              "      <td id=\"T_a9451_row5_col3\" class=\"data row5 col3\" >nan</td>\n",
              "    </tr>\n",
              "    <tr>\n",
              "      <th id=\"T_a9451_level0_row6\" class=\"row_heading level0 row6\" >6</th>\n",
              "      <td id=\"T_a9451_row6_col0\" class=\"data row6 col0\" >nan</td>\n",
              "      <td id=\"T_a9451_row6_col1\" class=\"data row6 col1\" >nan</td>\n",
              "      <td id=\"T_a9451_row6_col2\" class=\"data row6 col2\" >0.197088</td>\n",
              "      <td id=\"T_a9451_row6_col3\" class=\"data row6 col3\" >0.308790</td>\n",
              "    </tr>\n",
              "    <tr>\n",
              "      <th id=\"T_a9451_level0_row7\" class=\"row_heading level0 row7\" >7</th>\n",
              "      <td id=\"T_a9451_row7_col0\" class=\"data row7 col0\" >0.982039</td>\n",
              "      <td id=\"T_a9451_row7_col1\" class=\"data row7 col1\" >0.040280</td>\n",
              "      <td id=\"T_a9451_row7_col2\" class=\"data row7 col2\" >0.603822</td>\n",
              "      <td id=\"T_a9451_row7_col3\" class=\"data row7 col3\" >nan</td>\n",
              "    </tr>\n",
              "    <tr>\n",
              "      <th id=\"T_a9451_level0_row8\" class=\"row_heading level0 row8\" >8</th>\n",
              "      <td id=\"T_a9451_row8_col0\" class=\"data row8 col0\" >0.630489</td>\n",
              "      <td id=\"T_a9451_row8_col1\" class=\"data row8 col1\" >0.947055</td>\n",
              "      <td id=\"T_a9451_row8_col2\" class=\"data row8 col2\" >0.565202</td>\n",
              "      <td id=\"T_a9451_row8_col3\" class=\"data row8 col3\" >nan</td>\n",
              "    </tr>\n",
              "    <tr>\n",
              "      <th id=\"T_a9451_level0_row9\" class=\"row_heading level0 row9\" >9</th>\n",
              "      <td id=\"T_a9451_row9_col0\" class=\"data row9 col0\" >nan</td>\n",
              "      <td id=\"T_a9451_row9_col1\" class=\"data row9 col1\" >0.469494</td>\n",
              "      <td id=\"T_a9451_row9_col2\" class=\"data row9 col2\" >nan</td>\n",
              "      <td id=\"T_a9451_row9_col3\" class=\"data row9 col3\" >0.661527</td>\n",
              "    </tr>\n",
              "  </tbody>\n",
              "</table>\n"
            ]
          },
          "metadata": {},
          "execution_count": 4
        }
      ],
      "source": [
        "#11.Create a dataframe of ten rows, four columns with random values. Convert some values to nan values. Write a Pandas program which will highlight the nan values.\n",
        "import pandas as pd\n",
        "import numpy as np\n",
        "\n",
        "# Creating a DataFrame with random values\n",
        "data = {\n",
        "    'A': np.random.rand(10),\n",
        "    'B': np.random.rand(10),\n",
        "    'C': np.random.rand(10),\n",
        "    'D': np.random.rand(10)\n",
        "}\n",
        "\n",
        "df = pd.DataFrame(data)\n",
        "\n",
        "# Introducing NaN values at random positions\n",
        "nan_indices = [(row, col) for row in range(10) for col in np.random.choice(range(4), 2)]\n",
        "for row, col in nan_indices:\n",
        "    df.iloc[row, col] = np.nan\n",
        "\n",
        "# Function to highlight NaN values\n",
        "def highlight_nan(value):\n",
        "    if pd.isna(value):\n",
        "        return 'background-color:red'  # Applying yellow background to NaN values\n",
        "    else:\n",
        "        return ''\n",
        "\n",
        "styled_df = df.style.applymap(highlight_nan)\n",
        "styled_df\n"
      ]
    },
    {
      "cell_type": "code",
      "source": [
        "#11.Create a dataframe of ten rows, four columns with random values. Write a Pandas program to highlight the negative numbers red and positive numbers black.\n",
        "import pandas as pd\n",
        "\n",
        "# Create the DataFrame\n",
        "data = {\n",
        "    'A': [1, 2, 3, 4, 5, 6, 7, 8, 9, 10],\n",
        "    'B': [1.32921, -1.07082, -1.6264, 0.961538, 1.45342, -1.33694, 0.121668, 0.354493, 1.68658, -0.12982],\n",
        "    'C': [-0.770033, -1.43871, 0.219565, 0.104011, 1.05774, 0.562861, 1.2076, 1.03753, -1.32596, 0.631523],\n",
        "    'D': [-0.31628, 0.564417, 0.678805, -0.481165, 0.165562, 1.39285, -0.00204021, -0.385684, 1.42898, -0.586538],\n",
        "    'E': [-0.99081, 0.295722, 1.88927, 0.850229, 0.515018, -0.063328, 1.6278, 0.519818, -2.08935, 0.29072]\n",
        "}\n",
        "\n",
        "df = pd.DataFrame(data)\n",
        "\n",
        "# Define a function to apply color based on value\n",
        "def color_negative_red(val):\n",
        "    color = 'red' if val < 0 else 'black'\n",
        "    return f'color: {color}'\n",
        "\n",
        "# Apply the style to the DataFrame\n",
        "styled_df = df.style.applymap(color_negative_red, subset=pd.IndexSlice[:, 'B':'E'])\n",
        "\n",
        "# Display the styled DataFrame\n",
        "styled_df\n"
      ],
      "metadata": {
        "colab": {
          "base_uri": "https://localhost:8080/",
          "height": 363
        },
        "id": "JtgIPIAi9Sgy",
        "outputId": "eb791dbf-3fd9-4395-d60d-e127be418725"
      },
      "execution_count": null,
      "outputs": [
        {
          "output_type": "execute_result",
          "data": {
            "text/plain": [
              "<pandas.io.formats.style.Styler at 0x782b97383280>"
            ],
            "text/html": [
              "<style type=\"text/css\">\n",
              "#T_9d5f5_row0_col1, #T_9d5f5_row1_col3, #T_9d5f5_row1_col4, #T_9d5f5_row2_col2, #T_9d5f5_row2_col3, #T_9d5f5_row2_col4, #T_9d5f5_row3_col1, #T_9d5f5_row3_col2, #T_9d5f5_row3_col4, #T_9d5f5_row4_col1, #T_9d5f5_row4_col2, #T_9d5f5_row4_col3, #T_9d5f5_row4_col4, #T_9d5f5_row5_col2, #T_9d5f5_row5_col3, #T_9d5f5_row6_col1, #T_9d5f5_row6_col2, #T_9d5f5_row6_col4, #T_9d5f5_row7_col1, #T_9d5f5_row7_col2, #T_9d5f5_row7_col4, #T_9d5f5_row8_col1, #T_9d5f5_row8_col3, #T_9d5f5_row9_col2, #T_9d5f5_row9_col4 {\n",
              "  color: black;\n",
              "}\n",
              "#T_9d5f5_row0_col2, #T_9d5f5_row0_col3, #T_9d5f5_row0_col4, #T_9d5f5_row1_col1, #T_9d5f5_row1_col2, #T_9d5f5_row2_col1, #T_9d5f5_row3_col3, #T_9d5f5_row5_col1, #T_9d5f5_row5_col4, #T_9d5f5_row6_col3, #T_9d5f5_row7_col3, #T_9d5f5_row8_col2, #T_9d5f5_row8_col4, #T_9d5f5_row9_col1, #T_9d5f5_row9_col3 {\n",
              "  color: red;\n",
              "}\n",
              "</style>\n",
              "<table id=\"T_9d5f5\" class=\"dataframe\">\n",
              "  <thead>\n",
              "    <tr>\n",
              "      <th class=\"blank level0\" >&nbsp;</th>\n",
              "      <th id=\"T_9d5f5_level0_col0\" class=\"col_heading level0 col0\" >A</th>\n",
              "      <th id=\"T_9d5f5_level0_col1\" class=\"col_heading level0 col1\" >B</th>\n",
              "      <th id=\"T_9d5f5_level0_col2\" class=\"col_heading level0 col2\" >C</th>\n",
              "      <th id=\"T_9d5f5_level0_col3\" class=\"col_heading level0 col3\" >D</th>\n",
              "      <th id=\"T_9d5f5_level0_col4\" class=\"col_heading level0 col4\" >E</th>\n",
              "    </tr>\n",
              "  </thead>\n",
              "  <tbody>\n",
              "    <tr>\n",
              "      <th id=\"T_9d5f5_level0_row0\" class=\"row_heading level0 row0\" >0</th>\n",
              "      <td id=\"T_9d5f5_row0_col0\" class=\"data row0 col0\" >1</td>\n",
              "      <td id=\"T_9d5f5_row0_col1\" class=\"data row0 col1\" >1.329210</td>\n",
              "      <td id=\"T_9d5f5_row0_col2\" class=\"data row0 col2\" >-0.770033</td>\n",
              "      <td id=\"T_9d5f5_row0_col3\" class=\"data row0 col3\" >-0.316280</td>\n",
              "      <td id=\"T_9d5f5_row0_col4\" class=\"data row0 col4\" >-0.990810</td>\n",
              "    </tr>\n",
              "    <tr>\n",
              "      <th id=\"T_9d5f5_level0_row1\" class=\"row_heading level0 row1\" >1</th>\n",
              "      <td id=\"T_9d5f5_row1_col0\" class=\"data row1 col0\" >2</td>\n",
              "      <td id=\"T_9d5f5_row1_col1\" class=\"data row1 col1\" >-1.070820</td>\n",
              "      <td id=\"T_9d5f5_row1_col2\" class=\"data row1 col2\" >-1.438710</td>\n",
              "      <td id=\"T_9d5f5_row1_col3\" class=\"data row1 col3\" >0.564417</td>\n",
              "      <td id=\"T_9d5f5_row1_col4\" class=\"data row1 col4\" >0.295722</td>\n",
              "    </tr>\n",
              "    <tr>\n",
              "      <th id=\"T_9d5f5_level0_row2\" class=\"row_heading level0 row2\" >2</th>\n",
              "      <td id=\"T_9d5f5_row2_col0\" class=\"data row2 col0\" >3</td>\n",
              "      <td id=\"T_9d5f5_row2_col1\" class=\"data row2 col1\" >-1.626400</td>\n",
              "      <td id=\"T_9d5f5_row2_col2\" class=\"data row2 col2\" >0.219565</td>\n",
              "      <td id=\"T_9d5f5_row2_col3\" class=\"data row2 col3\" >0.678805</td>\n",
              "      <td id=\"T_9d5f5_row2_col4\" class=\"data row2 col4\" >1.889270</td>\n",
              "    </tr>\n",
              "    <tr>\n",
              "      <th id=\"T_9d5f5_level0_row3\" class=\"row_heading level0 row3\" >3</th>\n",
              "      <td id=\"T_9d5f5_row3_col0\" class=\"data row3 col0\" >4</td>\n",
              "      <td id=\"T_9d5f5_row3_col1\" class=\"data row3 col1\" >0.961538</td>\n",
              "      <td id=\"T_9d5f5_row3_col2\" class=\"data row3 col2\" >0.104011</td>\n",
              "      <td id=\"T_9d5f5_row3_col3\" class=\"data row3 col3\" >-0.481165</td>\n",
              "      <td id=\"T_9d5f5_row3_col4\" class=\"data row3 col4\" >0.850229</td>\n",
              "    </tr>\n",
              "    <tr>\n",
              "      <th id=\"T_9d5f5_level0_row4\" class=\"row_heading level0 row4\" >4</th>\n",
              "      <td id=\"T_9d5f5_row4_col0\" class=\"data row4 col0\" >5</td>\n",
              "      <td id=\"T_9d5f5_row4_col1\" class=\"data row4 col1\" >1.453420</td>\n",
              "      <td id=\"T_9d5f5_row4_col2\" class=\"data row4 col2\" >1.057740</td>\n",
              "      <td id=\"T_9d5f5_row4_col3\" class=\"data row4 col3\" >0.165562</td>\n",
              "      <td id=\"T_9d5f5_row4_col4\" class=\"data row4 col4\" >0.515018</td>\n",
              "    </tr>\n",
              "    <tr>\n",
              "      <th id=\"T_9d5f5_level0_row5\" class=\"row_heading level0 row5\" >5</th>\n",
              "      <td id=\"T_9d5f5_row5_col0\" class=\"data row5 col0\" >6</td>\n",
              "      <td id=\"T_9d5f5_row5_col1\" class=\"data row5 col1\" >-1.336940</td>\n",
              "      <td id=\"T_9d5f5_row5_col2\" class=\"data row5 col2\" >0.562861</td>\n",
              "      <td id=\"T_9d5f5_row5_col3\" class=\"data row5 col3\" >1.392850</td>\n",
              "      <td id=\"T_9d5f5_row5_col4\" class=\"data row5 col4\" >-0.063328</td>\n",
              "    </tr>\n",
              "    <tr>\n",
              "      <th id=\"T_9d5f5_level0_row6\" class=\"row_heading level0 row6\" >6</th>\n",
              "      <td id=\"T_9d5f5_row6_col0\" class=\"data row6 col0\" >7</td>\n",
              "      <td id=\"T_9d5f5_row6_col1\" class=\"data row6 col1\" >0.121668</td>\n",
              "      <td id=\"T_9d5f5_row6_col2\" class=\"data row6 col2\" >1.207600</td>\n",
              "      <td id=\"T_9d5f5_row6_col3\" class=\"data row6 col3\" >-0.002040</td>\n",
              "      <td id=\"T_9d5f5_row6_col4\" class=\"data row6 col4\" >1.627800</td>\n",
              "    </tr>\n",
              "    <tr>\n",
              "      <th id=\"T_9d5f5_level0_row7\" class=\"row_heading level0 row7\" >7</th>\n",
              "      <td id=\"T_9d5f5_row7_col0\" class=\"data row7 col0\" >8</td>\n",
              "      <td id=\"T_9d5f5_row7_col1\" class=\"data row7 col1\" >0.354493</td>\n",
              "      <td id=\"T_9d5f5_row7_col2\" class=\"data row7 col2\" >1.037530</td>\n",
              "      <td id=\"T_9d5f5_row7_col3\" class=\"data row7 col3\" >-0.385684</td>\n",
              "      <td id=\"T_9d5f5_row7_col4\" class=\"data row7 col4\" >0.519818</td>\n",
              "    </tr>\n",
              "    <tr>\n",
              "      <th id=\"T_9d5f5_level0_row8\" class=\"row_heading level0 row8\" >8</th>\n",
              "      <td id=\"T_9d5f5_row8_col0\" class=\"data row8 col0\" >9</td>\n",
              "      <td id=\"T_9d5f5_row8_col1\" class=\"data row8 col1\" >1.686580</td>\n",
              "      <td id=\"T_9d5f5_row8_col2\" class=\"data row8 col2\" >-1.325960</td>\n",
              "      <td id=\"T_9d5f5_row8_col3\" class=\"data row8 col3\" >1.428980</td>\n",
              "      <td id=\"T_9d5f5_row8_col4\" class=\"data row8 col4\" >-2.089350</td>\n",
              "    </tr>\n",
              "    <tr>\n",
              "      <th id=\"T_9d5f5_level0_row9\" class=\"row_heading level0 row9\" >9</th>\n",
              "      <td id=\"T_9d5f5_row9_col0\" class=\"data row9 col0\" >10</td>\n",
              "      <td id=\"T_9d5f5_row9_col1\" class=\"data row9 col1\" >-0.129820</td>\n",
              "      <td id=\"T_9d5f5_row9_col2\" class=\"data row9 col2\" >0.631523</td>\n",
              "      <td id=\"T_9d5f5_row9_col3\" class=\"data row9 col3\" >-0.586538</td>\n",
              "      <td id=\"T_9d5f5_row9_col4\" class=\"data row9 col4\" >0.290720</td>\n",
              "    </tr>\n",
              "  </tbody>\n",
              "</table>\n"
            ]
          },
          "metadata": {},
          "execution_count": 8
        }
      ]
    },
    {
      "cell_type": "code",
      "source": [
        "#12Create a dataframe of ten rows, four columns with random values. Write a Pandas program to set dataframe background Color black and font color yellow.\n",
        "import pandas as pd\n",
        "import numpy as np\n",
        "\n",
        "# Creating a DataFrame with random values\n",
        "data = np.random.rand(10, 4)\n",
        "df = pd.DataFrame(data, columns=['A', 'B', 'C', 'D'])\n",
        "\n",
        "# Define a function to set background color to black and font color to yellow\n",
        "def set_colors(val):\n",
        "    return 'background-color: black; color: yellow'\n",
        "\n",
        "# Apply the style to the DataFrame\n",
        "styled_df = df.style.applymap(set_colors)\n",
        "\n",
        "# Display the styled DataFrame\n",
        "styled_df\n"
      ],
      "metadata": {
        "colab": {
          "base_uri": "https://localhost:8080/",
          "height": 363
        },
        "id": "gz1vZEUK9sxM",
        "outputId": "a1193359-38f8-4ca4-a96d-741824de12c2"
      },
      "execution_count": null,
      "outputs": [
        {
          "output_type": "execute_result",
          "data": {
            "text/plain": [
              "<pandas.io.formats.style.Styler at 0x782b973836d0>"
            ],
            "text/html": [
              "<style type=\"text/css\">\n",
              "#T_c80f9_row0_col0, #T_c80f9_row0_col1, #T_c80f9_row0_col2, #T_c80f9_row0_col3, #T_c80f9_row1_col0, #T_c80f9_row1_col1, #T_c80f9_row1_col2, #T_c80f9_row1_col3, #T_c80f9_row2_col0, #T_c80f9_row2_col1, #T_c80f9_row2_col2, #T_c80f9_row2_col3, #T_c80f9_row3_col0, #T_c80f9_row3_col1, #T_c80f9_row3_col2, #T_c80f9_row3_col3, #T_c80f9_row4_col0, #T_c80f9_row4_col1, #T_c80f9_row4_col2, #T_c80f9_row4_col3, #T_c80f9_row5_col0, #T_c80f9_row5_col1, #T_c80f9_row5_col2, #T_c80f9_row5_col3, #T_c80f9_row6_col0, #T_c80f9_row6_col1, #T_c80f9_row6_col2, #T_c80f9_row6_col3, #T_c80f9_row7_col0, #T_c80f9_row7_col1, #T_c80f9_row7_col2, #T_c80f9_row7_col3, #T_c80f9_row8_col0, #T_c80f9_row8_col1, #T_c80f9_row8_col2, #T_c80f9_row8_col3, #T_c80f9_row9_col0, #T_c80f9_row9_col1, #T_c80f9_row9_col2, #T_c80f9_row9_col3 {\n",
              "  background-color: black;\n",
              "  color: yellow;\n",
              "}\n",
              "</style>\n",
              "<table id=\"T_c80f9\" class=\"dataframe\">\n",
              "  <thead>\n",
              "    <tr>\n",
              "      <th class=\"blank level0\" >&nbsp;</th>\n",
              "      <th id=\"T_c80f9_level0_col0\" class=\"col_heading level0 col0\" >A</th>\n",
              "      <th id=\"T_c80f9_level0_col1\" class=\"col_heading level0 col1\" >B</th>\n",
              "      <th id=\"T_c80f9_level0_col2\" class=\"col_heading level0 col2\" >C</th>\n",
              "      <th id=\"T_c80f9_level0_col3\" class=\"col_heading level0 col3\" >D</th>\n",
              "    </tr>\n",
              "  </thead>\n",
              "  <tbody>\n",
              "    <tr>\n",
              "      <th id=\"T_c80f9_level0_row0\" class=\"row_heading level0 row0\" >0</th>\n",
              "      <td id=\"T_c80f9_row0_col0\" class=\"data row0 col0\" >0.949229</td>\n",
              "      <td id=\"T_c80f9_row0_col1\" class=\"data row0 col1\" >0.708477</td>\n",
              "      <td id=\"T_c80f9_row0_col2\" class=\"data row0 col2\" >0.797638</td>\n",
              "      <td id=\"T_c80f9_row0_col3\" class=\"data row0 col3\" >0.248989</td>\n",
              "    </tr>\n",
              "    <tr>\n",
              "      <th id=\"T_c80f9_level0_row1\" class=\"row_heading level0 row1\" >1</th>\n",
              "      <td id=\"T_c80f9_row1_col0\" class=\"data row1 col0\" >0.874047</td>\n",
              "      <td id=\"T_c80f9_row1_col1\" class=\"data row1 col1\" >0.828828</td>\n",
              "      <td id=\"T_c80f9_row1_col2\" class=\"data row1 col2\" >0.994215</td>\n",
              "      <td id=\"T_c80f9_row1_col3\" class=\"data row1 col3\" >0.230815</td>\n",
              "    </tr>\n",
              "    <tr>\n",
              "      <th id=\"T_c80f9_level0_row2\" class=\"row_heading level0 row2\" >2</th>\n",
              "      <td id=\"T_c80f9_row2_col0\" class=\"data row2 col0\" >0.302407</td>\n",
              "      <td id=\"T_c80f9_row2_col1\" class=\"data row2 col1\" >0.444712</td>\n",
              "      <td id=\"T_c80f9_row2_col2\" class=\"data row2 col2\" >0.589820</td>\n",
              "      <td id=\"T_c80f9_row2_col3\" class=\"data row2 col3\" >0.494598</td>\n",
              "    </tr>\n",
              "    <tr>\n",
              "      <th id=\"T_c80f9_level0_row3\" class=\"row_heading level0 row3\" >3</th>\n",
              "      <td id=\"T_c80f9_row3_col0\" class=\"data row3 col0\" >0.477678</td>\n",
              "      <td id=\"T_c80f9_row3_col1\" class=\"data row3 col1\" >0.874770</td>\n",
              "      <td id=\"T_c80f9_row3_col2\" class=\"data row3 col2\" >0.696375</td>\n",
              "      <td id=\"T_c80f9_row3_col3\" class=\"data row3 col3\" >0.330870</td>\n",
              "    </tr>\n",
              "    <tr>\n",
              "      <th id=\"T_c80f9_level0_row4\" class=\"row_heading level0 row4\" >4</th>\n",
              "      <td id=\"T_c80f9_row4_col0\" class=\"data row4 col0\" >0.475231</td>\n",
              "      <td id=\"T_c80f9_row4_col1\" class=\"data row4 col1\" >0.140523</td>\n",
              "      <td id=\"T_c80f9_row4_col2\" class=\"data row4 col2\" >0.973171</td>\n",
              "      <td id=\"T_c80f9_row4_col3\" class=\"data row4 col3\" >0.718913</td>\n",
              "    </tr>\n",
              "    <tr>\n",
              "      <th id=\"T_c80f9_level0_row5\" class=\"row_heading level0 row5\" >5</th>\n",
              "      <td id=\"T_c80f9_row5_col0\" class=\"data row5 col0\" >0.922042</td>\n",
              "      <td id=\"T_c80f9_row5_col1\" class=\"data row5 col1\" >0.629859</td>\n",
              "      <td id=\"T_c80f9_row5_col2\" class=\"data row5 col2\" >0.204268</td>\n",
              "      <td id=\"T_c80f9_row5_col3\" class=\"data row5 col3\" >0.605826</td>\n",
              "    </tr>\n",
              "    <tr>\n",
              "      <th id=\"T_c80f9_level0_row6\" class=\"row_heading level0 row6\" >6</th>\n",
              "      <td id=\"T_c80f9_row6_col0\" class=\"data row6 col0\" >0.611342</td>\n",
              "      <td id=\"T_c80f9_row6_col1\" class=\"data row6 col1\" >0.205634</td>\n",
              "      <td id=\"T_c80f9_row6_col2\" class=\"data row6 col2\" >0.017364</td>\n",
              "      <td id=\"T_c80f9_row6_col3\" class=\"data row6 col3\" >0.747633</td>\n",
              "    </tr>\n",
              "    <tr>\n",
              "      <th id=\"T_c80f9_level0_row7\" class=\"row_heading level0 row7\" >7</th>\n",
              "      <td id=\"T_c80f9_row7_col0\" class=\"data row7 col0\" >0.967213</td>\n",
              "      <td id=\"T_c80f9_row7_col1\" class=\"data row7 col1\" >0.388298</td>\n",
              "      <td id=\"T_c80f9_row7_col2\" class=\"data row7 col2\" >0.999878</td>\n",
              "      <td id=\"T_c80f9_row7_col3\" class=\"data row7 col3\" >0.804939</td>\n",
              "    </tr>\n",
              "    <tr>\n",
              "      <th id=\"T_c80f9_level0_row8\" class=\"row_heading level0 row8\" >8</th>\n",
              "      <td id=\"T_c80f9_row8_col0\" class=\"data row8 col0\" >0.267222</td>\n",
              "      <td id=\"T_c80f9_row8_col1\" class=\"data row8 col1\" >0.396534</td>\n",
              "      <td id=\"T_c80f9_row8_col2\" class=\"data row8 col2\" >0.764169</td>\n",
              "      <td id=\"T_c80f9_row8_col3\" class=\"data row8 col3\" >0.712393</td>\n",
              "    </tr>\n",
              "    <tr>\n",
              "      <th id=\"T_c80f9_level0_row9\" class=\"row_heading level0 row9\" >9</th>\n",
              "      <td id=\"T_c80f9_row9_col0\" class=\"data row9 col0\" >0.021338</td>\n",
              "      <td id=\"T_c80f9_row9_col1\" class=\"data row9 col1\" >0.205826</td>\n",
              "      <td id=\"T_c80f9_row9_col2\" class=\"data row9 col2\" >0.969449</td>\n",
              "      <td id=\"T_c80f9_row9_col3\" class=\"data row9 col3\" >0.792637</td>\n",
              "    </tr>\n",
              "  </tbody>\n",
              "</table>\n"
            ]
          },
          "metadata": {},
          "execution_count": 9
        }
      ]
    },
    {
      "cell_type": "code",
      "source": [
        "#13.Write a Pandas program to detect missing values of a given DataFrame. Display True or False.\n",
        "import pandas as pd\n",
        "import numpy as np\n",
        "\n",
        "# Creating the DataFrame with the provided values\n",
        "data = {\n",
        "    'ord_no': [70001.0, np.nan, 70002.0, 70004.0, np.nan, 70005.0, np.nan, 70010.0, 70012.0, np.nan, 70013.0],\n",
        "    'purch_amt': [150.50, 270.65, np.nan, 110.50, 948.50, 2400.60, 5760.00, np.nan, 2480.40, 75.29, 3045.60],\n",
        "    'ord_date': ['2012-10-05', '2012-09-10', '2012-08-17', np.nan, '2012-09-10', '2012-07-27', '2012-09-10', np.nan, '2012-10-10', '2012-08-171', '2012-04-25'],\n",
        "    'customer_id': [3002, 3001, 3003, 3002, 3001, 3001, 3001, 3003, 3002, 3001, 3001],\n",
        "    'salesman_id': [5002.0, 5003.0, np.nan, np.nan, 5002.0, 5001.0, 5001.0, 5003.0, 5003.0, 5003.0, np.nan]\n",
        "}\n",
        "\n",
        "df = pd.DataFrame(data)\n",
        "\n",
        "# Detect missing values and display True or False\n",
        "missing_values = df.isnull()\n",
        "\n",
        "# Display the DataFrame of True/False values for missing data\n",
        "print(missing_values)\n"
      ],
      "metadata": {
        "colab": {
          "base_uri": "https://localhost:8080/"
        },
        "id": "_CBYbmh1932L",
        "outputId": "c20ff056-1cf1-495f-a3d4-edcc375f1cc7"
      },
      "execution_count": null,
      "outputs": [
        {
          "output_type": "stream",
          "name": "stdout",
          "text": [
            "    ord_no  purch_amt  ord_date  customer_id  salesman_id\n",
            "0    False      False     False        False        False\n",
            "1     True      False     False        False        False\n",
            "2    False       True     False        False         True\n",
            "3    False      False      True        False         True\n",
            "4     True      False     False        False        False\n",
            "5    False      False     False        False        False\n",
            "6     True      False     False        False        False\n",
            "7    False       True      True        False        False\n",
            "8    False      False     False        False        False\n",
            "9     True      False     False        False        False\n",
            "10   False      False     False        False         True\n"
          ]
        }
      ]
    },
    {
      "cell_type": "code",
      "source": [
        "#14. Write a Pandas program to find and replace the missing values in a given DataFrame which do not have any valuable information.\n",
        "\n",
        "import pandas as pd\n",
        "import numpy as np\n",
        "\n",
        "# Creating the DataFrame with the provided data\n",
        "data = {\n",
        "    'ord_no': [70001, np.nan, 70002, 70004, 70005, 70010, 70003, 70012, np.nan, 70013],\n",
        "    'purch_amt': [150.5, 270.65, 65.26, 110.5, 2400.6, np.nan, 12.43, 2480.4, np.nan, 3045.6],\n",
        "    'ord_date': ['2012-09-10', '5003', np.nan, '2012-08-17', '2012-07-27', '2012-10-10', '2012-10-10', '2012-06-27', '2012-08-17', '2012-04-25'],\n",
        "    'customer_id': [3002, 3001, np.nan, 3003, 3001, 3003, 3002, 3001, 3001, np.nan],\n",
        "    'salesman_id': [5002, 3001, 5001, np.nan, 5001, 5003, 5002, 5003, 3001, np.nan]\n",
        "}\n",
        "\n",
        "df = pd.DataFrame(data)\n",
        "\n",
        "# Define a function to replace the values that do not contain valuable information\n",
        "def replace_missing(val):\n",
        "    if val == '?' or pd.isnull(val):\n",
        "        return np.nan  # Replace '?' and NaN with NaN\n",
        "    return val\n",
        "\n",
        "# Apply the function to replace the values\n",
        "df = df.applymap(replace_missing)\n",
        "\n",
        "# Display the DataFrame after replacing missing values\n",
        "print(df)\n"
      ],
      "metadata": {
        "colab": {
          "base_uri": "https://localhost:8080/"
        },
        "id": "Jxv-7NDJ-6P2",
        "outputId": "54f39cb2-dd8b-4a5a-a775-afc20299f7d4"
      },
      "execution_count": null,
      "outputs": [
        {
          "output_type": "stream",
          "name": "stdout",
          "text": [
            "    ord_no  purch_amt    ord_date  customer_id  salesman_id\n",
            "0  70001.0     150.50  2012-09-10       3002.0       5002.0\n",
            "1      NaN     270.65        5003       3001.0       3001.0\n",
            "2  70002.0      65.26         NaN          NaN       5001.0\n",
            "3  70004.0     110.50  2012-08-17       3003.0          NaN\n",
            "4  70005.0    2400.60  2012-07-27       3001.0       5001.0\n",
            "5  70010.0        NaN  2012-10-10       3003.0       5003.0\n",
            "6  70003.0      12.43  2012-10-10       3002.0       5002.0\n",
            "7  70012.0    2480.40  2012-06-27       3001.0       5003.0\n",
            "8      NaN        NaN  2012-08-17       3001.0       3001.0\n",
            "9  70013.0    3045.60  2012-04-25          NaN          NaN\n"
          ]
        }
      ]
    },
    {
      "cell_type": "code",
      "source": [
        "#15.Write a Pandas program to keep the rows with at least 2 NaN values in a given DataFrame.\n",
        "\n",
        "import pandas as pd\n",
        "import numpy as np\n",
        "\n",
        "# Creating the DataFrame with the provided data\n",
        "data = {\n",
        "    'ord_no': [np.nan, 70002.0, 4, np.nan, 70005.0, np.nan, 70010.0, 70003.0, 70012.0, np.nan, np.nan],\n",
        "    'purch_amt': [np.nan, 65.26, 948.50, np.nan, 2400.60, 5760.00, 1983.43, 2480.40, 250.45, 75.29, np.nan],\n",
        "    'ord_date': [np.nan, '2012-09-10', 3002.0, '2012-09-10', '2012-07-27', '2012-09-10', '2012-10-10', '2012-06-27', '3001.0', np.nan, np.nan],\n",
        "    'customer_id': [np.nan, 3001.0, 3002.0, np.nan, 3001.0, 3001.0, 3004.0, 3002.0, 3001.0, np.nan, np.nan]\n",
        "}\n",
        "\n",
        "df = pd.DataFrame(data)\n",
        "\n",
        "# Filter rows with at least 2 NaN values\n",
        "filtered_df = df[df.isnull().sum(axis=1) >= 2]\n",
        "\n",
        "# Display the filtered DataFrame\n",
        "print(filtered_df)\n"
      ],
      "metadata": {
        "colab": {
          "base_uri": "https://localhost:8080/"
        },
        "id": "1ecOcuoD_zmr",
        "outputId": "be3ae3ab-5fb4-4c90-e81a-4d4e945e7735"
      },
      "execution_count": null,
      "outputs": [
        {
          "output_type": "stream",
          "name": "stdout",
          "text": [
            "    ord_no  purch_amt    ord_date  customer_id\n",
            "0      NaN        NaN         NaN          NaN\n",
            "3      NaN        NaN  2012-09-10          NaN\n",
            "9      NaN      75.29         NaN          NaN\n",
            "10     NaN        NaN         NaN          NaN\n"
          ]
        }
      ]
    },
    {
      "cell_type": "code",
      "source": [
        "#16.Write a Pandas program to split the following dataframe into groups based on school code. Also check the type of GroupBy object.\n",
        "\n",
        "import pandas as pd\n",
        "\n",
        "# Creating the DataFrame with the provided data\n",
        "data = {\n",
        "    'age': [12, 12, 13, 14, 12, 13],\n",
        "    'height': [173, 192, 186, 151, 159, 167],\n",
        "    'weight': [35, 32, 33, 31, 32, 30],\n",
        "    'address': ['street1', 'street2', 'street3', 'street2', 'street4', 'street1'],\n",
        "    'school': ['s001', 's002', 's003', 's001', 's002', 's004'],\n",
        "    'class': ['V', 'V', 'VI', 'VI', 'V', 'VI'],\n",
        "    'name': ['Alberto Franco', 'Gino Mcneill', 'Ryan Parkes', 'Eesha Hinton', 'Gino Mcneill', 'David Parkes'],\n",
        "    'date_of_birth': ['15/05/2002', '17/05/2002', '16/02/1999', '25/09/1998', '11/05/2002', '15/09/1997']\n",
        "}\n",
        "\n",
        "df = pd.DataFrame(data)\n",
        "\n",
        "# Grouping the DataFrame based on school code\n",
        "grouped = df.groupby('school')\n",
        "\n",
        "# Checking the type of GroupBy object\n",
        "print(type(grouped))\n",
        "\n",
        "# Displaying the groups\n",
        "for school_code, group in grouped:\n",
        "    print(f\"School Code: {school_code}\")\n",
        "    print(group)\n",
        "    print(\"\\n\")\n"
      ],
      "metadata": {
        "colab": {
          "base_uri": "https://localhost:8080/"
        },
        "id": "iZWycxShAUWR",
        "outputId": "054c5e3f-c803-483b-e6e3-2498b29249ee"
      },
      "execution_count": null,
      "outputs": [
        {
          "output_type": "stream",
          "name": "stdout",
          "text": [
            "<class 'pandas.core.groupby.generic.DataFrameGroupBy'>\n",
            "School Code: s001\n",
            "   age  height  weight  address school class            name date_of_birth\n",
            "0   12     173      35  street1   s001     V  Alberto Franco    15/05/2002\n",
            "3   14     151      31  street2   s001    VI    Eesha Hinton    25/09/1998\n",
            "\n",
            "\n",
            "School Code: s002\n",
            "   age  height  weight  address school class          name date_of_birth\n",
            "1   12     192      32  street2   s002     V  Gino Mcneill    17/05/2002\n",
            "4   12     159      32  street4   s002     V  Gino Mcneill    11/05/2002\n",
            "\n",
            "\n",
            "School Code: s003\n",
            "   age  height  weight  address school class         name date_of_birth\n",
            "2   13     186      33  street3   s003    VI  Ryan Parkes    16/02/1999\n",
            "\n",
            "\n",
            "School Code: s004\n",
            "   age  height  weight  address school class          name date_of_birth\n",
            "5   13     167      30  street1   s004    VI  David Parkes    15/09/1997\n",
            "\n",
            "\n"
          ]
        }
      ]
    },
    {
      "cell_type": "code",
      "source": [
        "#17.Write a Pandas program to split the following dataframe by school code and get mean, min, and max value of age for each school.\n",
        "\n",
        "import pandas as pd\n",
        "\n",
        "# Creating the DataFrame with the provided data\n",
        "data = {\n",
        "    'age': [12, 12, 13, 14, 12, 13],\n",
        "    'height': [173, 192, 186, 151, 159, 167],\n",
        "    'weight': [35, 32, 33, 31, 32, 30],\n",
        "    'address': ['street1', 'street2', 'street3', 'street2', 'street4', 'street1'],\n",
        "    'school': ['s001', 's002', 's003', 's001', 's002', 's004'],\n",
        "    'class': ['V', 'V', 'VI', 'VI', 'V', 'VI'],\n",
        "    'name': ['Alberto Franco', 'Gino Mcneill', 'Ryan Parkes', 'Eesha Hinton', 'Gino Mcneill', 'David Parkes'],\n",
        "    'date_of_birth': ['15/05/2002', '17/05/2002', '16/02/1999', '25/09/1998', '11/05/2002', '15/09/1997']\n",
        "}\n",
        "\n",
        "df = pd.DataFrame(data)\n",
        "\n",
        "# Convert 'age' column to numeric type\n",
        "df['age'] = pd.to_numeric(df['age'], errors='coerce')\n",
        "\n",
        "# Grouping the DataFrame by school code and calculating mean, min, and max age for each school\n",
        "result = df.groupby('school')['age'].agg(['mean', 'min', 'max'])\n",
        "\n",
        "# Displaying the mean, min, and max age for each school\n",
        "print(result)\n"
      ],
      "metadata": {
        "colab": {
          "base_uri": "https://localhost:8080/"
        },
        "id": "3YWQn3R1BQJk",
        "outputId": "b989fcdc-3874-445e-cd8a-8c64a97a3f7d"
      },
      "execution_count": null,
      "outputs": [
        {
          "output_type": "stream",
          "name": "stdout",
          "text": [
            "        mean  min  max\n",
            "school                \n",
            "s001    13.0   12   14\n",
            "s002    12.0   12   12\n",
            "s003    13.0   13   13\n",
            "s004    13.0   13   13\n"
          ]
        }
      ]
    },
    {
      "cell_type": "code",
      "source": [
        "#18.Write a Pandas program to split the following given dataframe into groups based on school code and class.\n",
        "\n",
        "import pandas as pd\n",
        "\n",
        "# Creating the DataFrame with the provided data\n",
        "data = {\n",
        "    'height': [173, 192, 186, 151, 159, 167],\n",
        "    'weight': [35, 32, 33, 31, 32, 30],\n",
        "    'address': ['street1', 'street2', 'street3', 'street2', 'street4', 'street1'],\n",
        "    'school': ['s001', 's002', 's003', 's001', 's002', 's004'],\n",
        "    'class': ['V', 'V', 'VI', 'VI', 'V', 'VI'],\n",
        "    'name': ['Alberto Franco', 'Gino Mcneill', 'Ryan Parkes', 'Eesha Hinton', 'Gino Mcneill', 'David Parkes'],\n",
        "    'date_of_birth': ['15/05/2002', '17/05/2002', '16/02/1999', '25/09/1998', '11/05/2002', '15/09/1997']\n",
        "}\n",
        "\n",
        "df = pd.DataFrame(data)\n",
        "\n",
        "# Grouping the DataFrame based on 'school' and 'class'\n",
        "grouped = df.groupby(['school', 'class'])\n",
        "\n",
        "# Displaying the groups\n",
        "for group_name, group in grouped:\n",
        "    print(f\"Group Name: {group_name}\")\n",
        "    print(group)\n",
        "    print(\"\\n\")\n"
      ],
      "metadata": {
        "colab": {
          "base_uri": "https://localhost:8080/"
        },
        "id": "6gs87ggUBttZ",
        "outputId": "38eb0569-8aa9-4100-f8f4-d8dcfa785f32"
      },
      "execution_count": null,
      "outputs": [
        {
          "output_type": "stream",
          "name": "stdout",
          "text": [
            "Group Name: ('s001', 'V')\n",
            "   height  weight  address school class            name date_of_birth\n",
            "0     173      35  street1   s001     V  Alberto Franco    15/05/2002\n",
            "\n",
            "\n",
            "Group Name: ('s001', 'VI')\n",
            "   height  weight  address school class          name date_of_birth\n",
            "3     151      31  street2   s001    VI  Eesha Hinton    25/09/1998\n",
            "\n",
            "\n",
            "Group Name: ('s002', 'V')\n",
            "   height  weight  address school class          name date_of_birth\n",
            "1     192      32  street2   s002     V  Gino Mcneill    17/05/2002\n",
            "4     159      32  street4   s002     V  Gino Mcneill    11/05/2002\n",
            "\n",
            "\n",
            "Group Name: ('s003', 'VI')\n",
            "   height  weight  address school class         name date_of_birth\n",
            "2     186      33  street3   s003    VI  Ryan Parkes    16/02/1999\n",
            "\n",
            "\n",
            "Group Name: ('s004', 'VI')\n",
            "   height  weight  address school class          name date_of_birth\n",
            "5     167      30  street1   s004    VI  David Parkes    15/09/1997\n",
            "\n",
            "\n"
          ]
        }
      ]
    },
    {
      "cell_type": "code",
      "source": [
        "#19.Write a Pandas program to display the dimensions or shape of the World alcohol consumption dataset. Also extract the column names from the dataset.\n",
        "\n",
        "import pandas as pd\n",
        "\n",
        "# Assuming 'data' is the variable containing the World alcohol consumption dataset\n",
        "# Replace this with your actual DataFrame or file loading method\n",
        "\n",
        "# Example data for representation purposes\n",
        "data = {\n",
        "    'Year': [1986, 1986, 1986, 1985, 1986, 1987],\n",
        "    'WHO region': ['Western Pacific', 'Americas', 'Africa', 'Colombia', 'Americas', 'Americas'],\n",
        "    'Country': ['Viet Nam', 'Uruguay', \"Cte d'Ivoire\", 'Colombia', 'Saint Kitts and Nevis', 'Country6'],\n",
        "    'Beverage Types': ['Wine', 'Other', 'Wine', 'Beer', 'Beer', 'Beer'],\n",
        "    'Display Value': [0.00, 0.50, 1.62, 4.27, 1.98, 2.0]\n",
        "}\n",
        "\n",
        "df = pd.DataFrame(data)\n",
        "\n",
        "# Displaying the dimensions (shape) of the dataset\n",
        "print(\"Dimensions or Shape of the DataFrame:\")\n",
        "print(df.shape)\n",
        "\n",
        "# Extracting the column names\n",
        "print(\"\\nColumn Names:\")\n",
        "print(df.columns)\n"
      ],
      "metadata": {
        "colab": {
          "base_uri": "https://localhost:8080/"
        },
        "id": "cim0l3gTCDrr",
        "outputId": "8d127237-334a-4a8d-e454-e8625b49d65a"
      },
      "execution_count": null,
      "outputs": [
        {
          "output_type": "stream",
          "name": "stdout",
          "text": [
            "Dimensions or Shape of the DataFrame:\n",
            "(6, 5)\n",
            "\n",
            "Column Names:\n",
            "Index(['Year', 'WHO region', 'Country', 'Beverage Types', 'Display Value'], dtype='object')\n"
          ]
        }
      ]
    },
    {
      "cell_type": "code",
      "source": [
        "#20.Write a Pandas program to find the index of a given substring of a DataFrame column.\n",
        "\n",
        "import pandas as pd\n",
        "\n",
        "# Sample DataFrame for demonstration\n",
        "data = {\n",
        "    'Column1': ['apple', 'banana', 'orange', 'grape', 'melon'],\n",
        "    'Column2': [10, 20, 15, 25, 30]\n",
        "}\n",
        "\n",
        "df = pd.DataFrame(data)\n",
        "\n",
        "# Finding the index of a given substring in 'Column1'\n",
        "substring = 'an'  # Substring to find within the DataFrame column\n",
        "indices = df[df['Column1'].str.contains(substring)].index.tolist()\n",
        "\n",
        "# Displaying the indices of rows containing the substring\n",
        "print(f\"Indices of rows containing '{substring}':\")\n",
        "print(indices)\n"
      ],
      "metadata": {
        "colab": {
          "base_uri": "https://localhost:8080/"
        },
        "id": "cApFJXYNC2no",
        "outputId": "a3cd1d0a-c261-4850-b568-2be5624164a2"
      },
      "execution_count": null,
      "outputs": [
        {
          "output_type": "stream",
          "name": "stdout",
          "text": [
            "Indices of rows containing 'an':\n",
            "[1, 2]\n"
          ]
        }
      ]
    },
    {
      "cell_type": "code",
      "source": [
        "#21.Write a Pandas program to swap the cases of a specified character column in a given DataFrame.\n",
        "\n",
        "import pandas as pd\n",
        "\n",
        "# Sample DataFrame\n",
        "data = {\n",
        "    'Column1': ['Apple', 'Banana', 'Orange', 'Grape', 'Melon'],\n",
        "    'Column2': [10, 20, 15, 25, 30]\n",
        "}\n",
        "\n",
        "df = pd.DataFrame(data)\n",
        "\n",
        "# Specified column to swap cases (Column1 in this example)\n",
        "specified_column = 'Column1'\n",
        "\n",
        "# Swapping cases in the specified column\n",
        "df[specified_column] = df[specified_column].str.swapcase()\n",
        "\n",
        "# Displaying the updated DataFrame\n",
        "print(\"DataFrame after swapping cases:\")\n",
        "print(df)\n"
      ],
      "metadata": {
        "colab": {
          "base_uri": "https://localhost:8080/"
        },
        "id": "IDGs1DutDP8q",
        "outputId": "9d3ef6a2-eef0-4bf2-c7bb-eb73056e7c6c"
      },
      "execution_count": null,
      "outputs": [
        {
          "output_type": "stream",
          "name": "stdout",
          "text": [
            "DataFrame after swapping cases:\n",
            "  Column1  Column2\n",
            "0   aPPLE       10\n",
            "1  bANANA       20\n",
            "2  oRANGE       15\n",
            "3   gRAPE       25\n",
            "4   mELON       30\n"
          ]
        }
      ]
    },
    {
      "cell_type": "code",
      "source": [
        "#22.Write a Python program to draw a line with suitable label in the x axis, y axis and a title.\n",
        "\n",
        "import matplotlib.pyplot as plt\n",
        "\n",
        "# Sample data for the line\n",
        "x_values = [1, 2, 3, 4, 5]\n",
        "y_values = [2, 4, 6, 8, 10]\n",
        "\n",
        "# Plotting the line\n",
        "plt.plot(x_values, y_values)\n",
        "\n",
        "# Adding labels and title\n",
        "plt.xlabel('X Axis Label')\n",
        "plt.ylabel('Y Axis Label')\n",
        "plt.title('Simple Line Plot')\n",
        "\n",
        "# Show the plot\n",
        "plt.show()\n"
      ],
      "metadata": {
        "colab": {
          "base_uri": "https://localhost:8080/",
          "height": 472
        },
        "id": "2OEjVyJFDfBM",
        "outputId": "32182697-8ed4-4768-ec55-5fdea5485063"
      },
      "execution_count": null,
      "outputs": [
        {
          "output_type": "display_data",
          "data": {
            "text/plain": [
              "<Figure size 640x480 with 1 Axes>"
            ],
            "image/png": "[encoded data removed]"
          },
          "metadata": {}
        }
      ]
    },
    {
      "cell_type": "code",
      "source": [
        "#23.Write a Python program to draw a line using given axis values taken from a text file, with suitable label in the x axis, y axis and a title.\n",
        "import matplotlib.pyplot as plt\n",
        "\n",
        "# Read data from the text file\n",
        "with open('/content/text.txt', 'r') as file:\n",
        "    data = file.read().splitlines()\n",
        "\n",
        "x = []\n",
        "y = []\n",
        "\n",
        "# Parse the data from the file\n",
        "for line in data:\n",
        "    values = line.split()\n",
        "    x.append(int(values[0]))\n",
        "    y.append(int(values[1]))\n",
        "\n",
        "# Plot the line\n",
        "plt.plot(x, y)\n",
        "\n",
        "# Add labels and title\n",
        "plt.xlabel('X Axis Label')\n",
        "plt.ylabel('Y Axis Label')\n",
        "plt.title('Line Plot from test.txt')\n",
        "\n",
        "# Show the plot\n",
        "plt.show()\n"
      ],
      "metadata": {
        "colab": {
          "base_uri": "https://localhost:8080/",
          "height": 472
        },
        "id": "kvvB1R2tDzqx",
        "outputId": "f0f76d43-497d-43c5-d2d1-d26fddb55678"
      },
      "execution_count": null,
      "outputs": [
        {
          "output_type": "display_data",
          "data": {
            "text/plain": [
              "<Figure size 640x480 with 1 Axes>"
            ],
            "image/png": "[encoded data removed]"
          },
          "metadata": {}
        }
      ]
    },
    {
      "cell_type": "code",
      "source": [],
      "metadata": {
        "id": "A90LufW2HRtk"
      },
      "execution_count": null,
      "outputs": []
    }
  ]
}